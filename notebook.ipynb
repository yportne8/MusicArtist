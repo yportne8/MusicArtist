{
 "cells": [
  {
   "cell_type": "code",
   "execution_count": 1,
   "metadata": {},
   "outputs": [],
   "source": [
    "from artist import MusicArtist"
   ]
  },
  {
   "cell_type": "code",
   "execution_count": 2,
   "metadata": {},
   "outputs": [],
   "source": [
    "artist = MusicArtist(\"Twenty One Pilots\")"
   ]
  },
  {
   "cell_type": "code",
   "execution_count": 3,
   "metadata": {},
   "outputs": [
    {
     "data": {
      "text/plain": [
       "['AJR',\n",
       " 'Bastille',\n",
       " 'Fun.',\n",
       " 'X Ambassadors',\n",
       " 'AWOLNATION',\n",
       " 'Imagine Dragons',\n",
       " 'Jamie T.',\n",
       " 'Jon Bellion',\n",
       " 'Paramore',\n",
       " 'Prose',\n",
       " 'Walk the Moon',\n",
       " 'Yungblud',\n",
       " 'Best Frenz',\n",
       " 'Breathe Carolina',\n",
       " 'Cobra Starship',\n",
       " 'Hard-Fi',\n",
       " 'HØØNCH',\n",
       " 'I Dont Know How But They Found Me',\n",
       " 'Panic! At the Disco',\n",
       " 'Quinn XCII',\n",
       " 'USS (Ubiquitous Synergy Seeker)',\n",
       " 'Youngblood Hawke',\n",
       " 'gnash',\n",
       " 'Goody Grace',\n",
       " 'MGMT',\n",
       " 'NF',\n",
       " 'Parade of Lights',\n",
       " 'Suckers',\n",
       " 'Thirty Seconds to Mars',\n",
       " 'Timeflies',\n",
       " '93PUNX',\n",
       " 'All Get Out',\n",
       " 'Bohnes',\n",
       " 'Explorer Tapes',\n",
       " 'Kulick',\n",
       " 'L.I.F.T',\n",
       " 'OneRepublic',\n",
       " 'Saint PHNX',\n",
       " 'Dub Pistols',\n",
       " 'Linkin Park',\n",
       " 'Death Cab for Cutie',\n",
       " 'Sigur Rós',\n",
       " 'MUTEMATH',\n",
       " 'Cage the Elephant',\n",
       " 'Justin Bieber',\n",
       " 'The Chicks',\n",
       " 'The Chainsmokers']"
      ]
     },
     "execution_count": 3,
     "metadata": {},
     "output_type": "execute_result"
    }
   ],
   "source": [
    "artist.similar()"
   ]
  },
  {
   "cell_type": "code",
   "execution_count": null,
   "metadata": {},
   "outputs": [],
   "source": [
    "tracks"
   ]
  },
  {
   "cell_type": "code",
   "execution_count": null,
   "metadata": {},
   "outputs": [],
   "source": []
  },
  {
   "cell_type": "code",
   "execution_count": null,
   "metadata": {},
   "outputs": [],
   "source": []
  }
 ],
 "metadata": {
  "interpreter": {
   "hash": "1a56d802b019e967fde9b8fd840c27605e165f4bc97c81b2453c760c6aaf86fd"
  },
  "kernelspec": {
   "display_name": "Python 3.9.7 ('base')",
   "language": "python",
   "name": "python3"
  },
  "language_info": {
   "codemirror_mode": {
    "name": "ipython",
    "version": 3
   },
   "file_extension": ".py",
   "mimetype": "text/x-python",
   "name": "python",
   "nbconvert_exporter": "python",
   "pygments_lexer": "ipython3",
   "version": "3.9.7"
  },
  "orig_nbformat": 4
 },
 "nbformat": 4,
 "nbformat_minor": 2
}
